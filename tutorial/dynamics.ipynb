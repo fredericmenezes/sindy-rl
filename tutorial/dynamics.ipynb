version https://git-lfs.github.com/spec/v1
oid sha256:a71c8feb1f0c7d77f497a2fd59a672ed06d49d7f28f4b11728193838e4c42601
size 38344779
